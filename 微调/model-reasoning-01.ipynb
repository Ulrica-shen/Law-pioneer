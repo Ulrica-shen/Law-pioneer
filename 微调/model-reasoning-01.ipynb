{
 "cells": [
  {
   "cell_type": "code",
   "execution_count": 1,
   "id": "71a51df8-67d9-46b6-b4dd-4877e595ab1f",
   "metadata": {
    "execution": {
     "iopub.execute_input": "2023-10-25T14:42:38.846063Z",
     "iopub.status.busy": "2023-10-25T14:42:38.845824Z",
     "iopub.status.idle": "2023-10-25T14:42:42.174708Z",
     "shell.execute_reply": "2023-10-25T14:42:42.173950Z",
     "shell.execute_reply.started": "2023-10-25T14:42:38.846043Z"
    },
    "tags": []
   },
   "outputs": [
    {
     "name": "stdout",
     "output_type": "stream",
     "text": [
      "Looking in indexes: https://mirrors.cloud.aliyuncs.com/pypi/simple\n",
      "Requirement already satisfied: transformers>=4.32.0 in /opt/conda/lib/python3.8/site-packages (4.34.0)\n",
      "Requirement already satisfied: accelerate in /opt/conda/lib/python3.8/site-packages (0.23.0)\n",
      "Requirement already satisfied: tiktoken in /opt/conda/lib/python3.8/site-packages (0.5.1)\n",
      "Requirement already satisfied: einops in /opt/conda/lib/python3.8/site-packages (0.6.1)\n",
      "Requirement already satisfied: scipy in /opt/conda/lib/python3.8/site-packages (1.10.1)\n",
      "Requirement already satisfied: transformers_stream_generator==0.0.4 in /opt/conda/lib/python3.8/site-packages (0.0.4)\n",
      "Requirement already satisfied: peft in /opt/conda/lib/python3.8/site-packages (0.5.0)\n",
      "Requirement already satisfied: deepspeed in /opt/conda/lib/python3.8/site-packages (0.10.3)\n",
      "Requirement already satisfied: filelock in /opt/conda/lib/python3.8/site-packages (from transformers>=4.32.0) (3.12.2)\n",
      "Requirement already satisfied: huggingface-hub<1.0,>=0.16.4 in /opt/conda/lib/python3.8/site-packages (from transformers>=4.32.0) (0.17.3)\n",
      "Requirement already satisfied: numpy>=1.17 in /opt/conda/lib/python3.8/site-packages (from transformers>=4.32.0) (1.24.3)\n",
      "Requirement already satisfied: packaging>=20.0 in /opt/conda/lib/python3.8/site-packages (from transformers>=4.32.0) (23.0)\n",
      "Requirement already satisfied: pyyaml>=5.1 in /opt/conda/lib/python3.8/site-packages (from transformers>=4.32.0) (6.0.1)\n",
      "Requirement already satisfied: regex!=2019.12.17 in /opt/conda/lib/python3.8/site-packages (from transformers>=4.32.0) (2023.8.8)\n",
      "Requirement already satisfied: requests in /opt/conda/lib/python3.8/site-packages (from transformers>=4.32.0) (2.31.0)\n",
      "Requirement already satisfied: tokenizers<0.15,>=0.14 in /opt/conda/lib/python3.8/site-packages (from transformers>=4.32.0) (0.14.1)\n",
      "Requirement already satisfied: safetensors>=0.3.1 in /opt/conda/lib/python3.8/site-packages (from transformers>=4.32.0) (0.3.3)\n",
      "Requirement already satisfied: tqdm>=4.27 in /opt/conda/lib/python3.8/site-packages (from transformers>=4.32.0) (4.65.0)\n",
      "Requirement already satisfied: psutil in /opt/conda/lib/python3.8/site-packages (from accelerate) (5.9.5)\n",
      "Requirement already satisfied: torch>=1.10.0 in /opt/conda/lib/python3.8/site-packages (from accelerate) (2.0.1+cu118)\n",
      "Requirement already satisfied: hjson in /opt/conda/lib/python3.8/site-packages (from deepspeed) (3.1.0)\n",
      "Requirement already satisfied: ninja in /opt/conda/lib/python3.8/site-packages (from deepspeed) (1.11.1)\n",
      "Requirement already satisfied: py-cpuinfo in /opt/conda/lib/python3.8/site-packages (from deepspeed) (9.0.0)\n",
      "Requirement already satisfied: pydantic<2.0.0 in /opt/conda/lib/python3.8/site-packages (from deepspeed) (1.10.12)\n",
      "Requirement already satisfied: fsspec in /opt/conda/lib/python3.8/site-packages (from huggingface-hub<1.0,>=0.16.4->transformers>=4.32.0) (2023.9.2)\n",
      "Requirement already satisfied: typing-extensions>=3.7.4.3 in /opt/conda/lib/python3.8/site-packages (from huggingface-hub<1.0,>=0.16.4->transformers>=4.32.0) (4.8.0)\n",
      "Requirement already satisfied: charset-normalizer<4,>=2 in /opt/conda/lib/python3.8/site-packages (from requests->transformers>=4.32.0) (2.0.4)\n",
      "Requirement already satisfied: idna<4,>=2.5 in /opt/conda/lib/python3.8/site-packages (from requests->transformers>=4.32.0) (3.4)\n",
      "Requirement already satisfied: urllib3<3,>=1.21.1 in /opt/conda/lib/python3.8/site-packages (from requests->transformers>=4.32.0) (1.26.16)\n",
      "Requirement already satisfied: certifi>=2017.4.17 in /opt/conda/lib/python3.8/site-packages (from requests->transformers>=4.32.0) (2023.7.22)\n",
      "Requirement already satisfied: sympy in /opt/conda/lib/python3.8/site-packages (from torch>=1.10.0->accelerate) (1.12)\n",
      "Requirement already satisfied: networkx in /opt/conda/lib/python3.8/site-packages (from torch>=1.10.0->accelerate) (2.8.4)\n",
      "Requirement already satisfied: jinja2 in /opt/conda/lib/python3.8/site-packages (from torch>=1.10.0->accelerate) (3.1.2)\n",
      "Requirement already satisfied: triton==2.0.0 in /opt/conda/lib/python3.8/site-packages (from torch>=1.10.0->accelerate) (2.0.0)\n",
      "Requirement already satisfied: cmake in /opt/conda/lib/python3.8/site-packages (from triton==2.0.0->torch>=1.10.0->accelerate) (3.27.2)\n",
      "Requirement already satisfied: lit in /opt/conda/lib/python3.8/site-packages (from triton==2.0.0->torch>=1.10.0->accelerate) (16.0.6)\n",
      "Requirement already satisfied: MarkupSafe>=2.0 in /opt/conda/lib/python3.8/site-packages (from jinja2->torch>=1.10.0->accelerate) (2.1.3)\n",
      "Requirement already satisfied: mpmath>=0.19 in /opt/conda/lib/python3.8/site-packages (from sympy->torch>=1.10.0->accelerate) (1.3.0)\n",
      "\u001b[33mDEPRECATION: pytorch-lightning 1.7.7 has a non-standard dependency specifier torch>=1.9.*. pip 23.3 will enforce this behaviour change. A possible replacement is to upgrade to a newer version of pytorch-lightning or contact the author to suggest that they release a version with a conforming dependency specifiers. Discussion can be found at https://github.com/pypa/pip/issues/12063\u001b[0m\u001b[33m\n",
      "\u001b[0m\u001b[33mWARNING: Running pip as the 'root' user can result in broken permissions and conflicting behaviour with the system package manager. It is recommended to use a virtual environment instead: https://pip.pypa.io/warnings/venv\u001b[0m\u001b[33m\n",
      "\u001b[0mNote: you may need to restart the kernel to use updated packages.\n"
     ]
    }
   ],
   "source": [
    "pip install \"transformers>=4.32.0\" accelerate tiktoken einops scipy transformers_stream_generator==0.0.4 peft deepspeed"
   ]
  },
  {
   "cell_type": "code",
   "execution_count": 2,
   "id": "189401fd-c3aa-44f5-9fc0-825c401f2693",
   "metadata": {
    "ExecutionIndicator": {
     "show": false
    },
    "execution": {
     "iopub.execute_input": "2023-10-25T14:42:44.884881Z",
     "iopub.status.busy": "2023-10-25T14:42:44.884544Z",
     "iopub.status.idle": "2023-10-25T14:42:44.888661Z",
     "shell.execute_reply": "2023-10-25T14:42:44.887915Z",
     "shell.execute_reply.started": "2023-10-25T14:42:44.884859Z"
    },
    "tags": []
   },
   "outputs": [
    {
     "ename": "SyntaxError",
     "evalue": "invalid syntax (2779317418.py, line 1)",
     "output_type": "error",
     "traceback": [
      "\u001b[0;36m  Cell \u001b[0;32mIn[2], line 1\u001b[0;36m\u001b[0m\n\u001b[0;31m    git clone -b v1.0.8 https://github.com/Dao-AILab/flash-attention\u001b[0m\n\u001b[0m        ^\u001b[0m\n\u001b[0;31mSyntaxError\u001b[0m\u001b[0;31m:\u001b[0m invalid syntax\n"
     ]
    }
   ],
   "source": [
    "git clone -b v1.0.8 https://github.com/Dao-AILab/flash-attention\n",
    "cd flash-attention && pip install .\n",
    "# 下方安装可选，安装可能比较缓慢。\n",
    "# Below are optional. Installing them might be slow.\n",
    "# pip install csrc/layer_norm\n",
    "# pip install csrc/rotary"
   ]
  },
  {
   "cell_type": "code",
   "execution_count": 3,
   "id": "51823644-f349-4944-a58d-ea3c89c297b7",
   "metadata": {
    "ExecutionIndicator": {
     "show": true
    },
    "execution": {
     "iopub.execute_input": "2023-10-25T14:42:46.797369Z",
     "iopub.status.busy": "2023-10-25T14:42:46.797065Z",
     "iopub.status.idle": "2023-10-25T14:42:46.800966Z",
     "shell.execute_reply": "2023-10-25T14:42:46.800229Z",
     "shell.execute_reply.started": "2023-10-25T14:42:46.797353Z"
    },
    "tags": []
   },
   "outputs": [
    {
     "ename": "SyntaxError",
     "evalue": "invalid syntax (190352609.py, line 1)",
     "output_type": "error",
     "traceback": [
      "\u001b[0;36m  Cell \u001b[0;32mIn[3], line 1\u001b[0;36m\u001b[0m\n\u001b[0;31m    git clone -b v1.0.8 https://github.com/Dao-AILab/flash-attention\u001b[0m\n\u001b[0m        ^\u001b[0m\n\u001b[0;31mSyntaxError\u001b[0m\u001b[0;31m:\u001b[0m invalid syntax\n"
     ]
    }
   ],
   "source": [
    "git clone -b v1.0.8 https://github.com/Dao-AILab/flash-attention"
   ]
  },
  {
   "cell_type": "code",
   "execution_count": 4,
   "id": "8735f5c1-5aea-4648-9209-0f960e5b6eed",
   "metadata": {
    "execution": {
     "iopub.execute_input": "2023-10-25T13:17:10.014959Z",
     "iopub.status.busy": "2023-10-25T13:17:10.014640Z",
     "iopub.status.idle": "2023-10-25T13:17:10.639948Z",
     "shell.execute_reply": "2023-10-25T13:17:10.639362Z",
     "shell.execute_reply.started": "2023-10-25T13:17:10.014940Z"
    },
    "tags": []
   },
   "outputs": [
    {
     "name": "stdout",
     "output_type": "stream",
     "text": [
      "Looking in indexes: https://mirrors.cloud.aliyuncs.com/pypi/simple\n",
      "\u001b[31mERROR: Could not find a version that satisfies the requirement flash-attention (from versions: none)\u001b[0m\u001b[31m\n",
      "\u001b[0m\u001b[31mERROR: No matching distribution found for flash-attention\u001b[0m\u001b[31m\n",
      "\u001b[0m\n",
      "\u001b[1m[\u001b[0m\u001b[34;49mnotice\u001b[0m\u001b[1;39;49m]\u001b[0m\u001b[39;49m A new release of pip is available: \u001b[0m\u001b[31;49m23.2.1\u001b[0m\u001b[39;49m -> \u001b[0m\u001b[32;49m23.3.1\u001b[0m\n",
      "\u001b[1m[\u001b[0m\u001b[34;49mnotice\u001b[0m\u001b[1;39;49m]\u001b[0m\u001b[39;49m To update, run: \u001b[0m\u001b[32;49mpip install --upgrade pip\u001b[0m\n",
      "Note: you may need to restart the kernel to use updated packages.\n"
     ]
    }
   ],
   "source": [
    "pip install flash-attention"
   ]
  },
  {
   "cell_type": "code",
   "execution_count": 5,
   "id": "52981373-9980-44e1-9a72-95c1d3d0c248",
   "metadata": {
    "execution": {
     "iopub.execute_input": "2023-10-25T13:17:13.476961Z",
     "iopub.status.busy": "2023-10-25T13:17:13.476631Z",
     "iopub.status.idle": "2023-10-25T13:17:14.071373Z",
     "shell.execute_reply": "2023-10-25T13:17:14.070767Z",
     "shell.execute_reply.started": "2023-10-25T13:17:13.476942Z"
    },
    "tags": []
   },
   "outputs": [
    {
     "name": "stdout",
     "output_type": "stream",
     "text": [
      "Looking in indexes: https://mirrors.cloud.aliyuncs.com/pypi/simple\n",
      "\u001b[31mERROR: Could not find a version that satisfies the requirement FlashAttention (from versions: none)\u001b[0m\u001b[31m\n",
      "\u001b[0m\u001b[31mERROR: No matching distribution found for FlashAttention\u001b[0m\u001b[31m\n",
      "\u001b[0m\n",
      "\u001b[1m[\u001b[0m\u001b[34;49mnotice\u001b[0m\u001b[1;39;49m]\u001b[0m\u001b[39;49m A new release of pip is available: \u001b[0m\u001b[31;49m23.2.1\u001b[0m\u001b[39;49m -> \u001b[0m\u001b[32;49m23.3.1\u001b[0m\n",
      "\u001b[1m[\u001b[0m\u001b[34;49mnotice\u001b[0m\u001b[1;39;49m]\u001b[0m\u001b[39;49m To update, run: \u001b[0m\u001b[32;49mpip install --upgrade pip\u001b[0m\n",
      "Note: you may need to restart the kernel to use updated packages.\n"
     ]
    }
   ],
   "source": [
    "pip install FlashAttention"
   ]
  },
  {
   "cell_type": "code",
   "execution_count": 6,
   "id": "1ced6725-c5bf-4dff-92e6-415f1e520722",
   "metadata": {
    "execution": {
     "iopub.execute_input": "2023-10-25T13:17:36.192685Z",
     "iopub.status.busy": "2023-10-25T13:17:36.192322Z",
     "iopub.status.idle": "2023-10-25T13:17:40.274725Z",
     "shell.execute_reply": "2023-10-25T13:17:40.274151Z",
     "shell.execute_reply.started": "2023-10-25T13:17:36.192662Z"
    },
    "tags": []
   },
   "outputs": [
    {
     "name": "stdout",
     "output_type": "stream",
     "text": [
      "Looking in indexes: https://mirrors.cloud.aliyuncs.com/pypi/simple\n",
      "Requirement already satisfied: pip in /opt/conda/lib/python3.8/site-packages (23.2.1)\n",
      "Collecting pip\n",
      "  Downloading https://mirrors.cloud.aliyuncs.com/pypi/packages/47/6a/453160888fab7c6a432a6e25f8afe6256d0d9f2cbd25971021da6491d899/pip-23.3.1-py3-none-any.whl (2.1 MB)\n",
      "\u001b[2K     \u001b[90m━━━━━━━━━━━━━━━━━━━━━━━━━━━━━━━━━━━━━━━━\u001b[0m \u001b[32m2.1/2.1 MB\u001b[0m \u001b[31m46.2 MB/s\u001b[0m eta \u001b[36m0:00:00\u001b[0ma \u001b[36m0:00:01\u001b[0m\n",
      "\u001b[?25h\u001b[33mDEPRECATION: omegaconf 2.0.6 has a non-standard dependency specifier PyYAML>=5.1.*. pip 23.3 will enforce this behaviour change. A possible replacement is to upgrade to a newer version of omegaconf or contact the author to suggest that they release a version with a conforming dependency specifiers. Discussion can be found at https://github.com/pypa/pip/issues/12063\u001b[0m\u001b[33m\n",
      "\u001b[0m\u001b[33mDEPRECATION: pytorch-lightning 1.7.7 has a non-standard dependency specifier torch>=1.9.*. pip 23.3 will enforce this behaviour change. A possible replacement is to upgrade to a newer version of pytorch-lightning or contact the author to suggest that they release a version with a conforming dependency specifiers. Discussion can be found at https://github.com/pypa/pip/issues/12063\u001b[0m\u001b[33m\n",
      "\u001b[0mInstalling collected packages: pip\n",
      "  Attempting uninstall: pip\n",
      "    Found existing installation: pip 23.2.1\n",
      "    Uninstalling pip-23.2.1:\n",
      "      Successfully uninstalled pip-23.2.1\n",
      "Successfully installed pip-23.3.1\n",
      "\u001b[33mWARNING: Running pip as the 'root' user can result in broken permissions and conflicting behaviour with the system package manager. It is recommended to use a virtual environment instead: https://pip.pypa.io/warnings/venv\u001b[0m\u001b[33m\n",
      "\u001b[0mNote: you may need to restart the kernel to use updated packages.\n"
     ]
    }
   ],
   "source": [
    "pip install --upgrade pip"
   ]
  },
  {
   "cell_type": "code",
   "execution_count": null,
   "id": "01c9a1a9-927a-47d1-a7e8-08dc47fb1e6f",
   "metadata": {},
   "outputs": [],
   "source": []
  },
  {
   "cell_type": "code",
   "execution_count": 4,
   "id": "d35209d9-6935-4ff7-b78e-b7c24a7412e8",
   "metadata": {
    "ExecutionIndicator": {
     "show": true
    },
    "execution": {
     "iopub.execute_input": "2023-10-25T14:45:52.714053Z",
     "iopub.status.busy": "2023-10-25T14:45:52.713637Z",
     "iopub.status.idle": "2023-10-25T14:48:16.385134Z",
     "shell.execute_reply": "2023-10-25T14:48:16.384304Z",
     "shell.execute_reply.started": "2023-10-25T14:45:52.714028Z"
    },
    "scrolled": true,
    "tags": []
   },
   "outputs": [
    {
     "name": "stderr",
     "output_type": "stream",
     "text": [
      "2023-10-25 22:45:56,398 - modelscope - INFO - PyTorch version 2.0.1+cu118 Found.\n",
      "2023-10-25 22:45:56,401 - modelscope - INFO - TensorFlow version 2.13.0 Found.\n",
      "2023-10-25 22:45:56,401 - modelscope - INFO - Loading ast index from /mnt/workspace/.cache/modelscope/ast_indexer\n",
      "2023-10-25 22:45:56,402 - modelscope - INFO - No valid ast index found from /mnt/workspace/.cache/modelscope/ast_indexer, generating ast index from prebuilt!\n",
      "2023-10-25 22:45:56,553 - modelscope - INFO - Loading done! Current index file version is 1.9.3, with md5 2964cd69cacf0af2751cbfeadafc9baa and a total number of 943 components indexed\n",
      "/opt/conda/lib/python3.8/site-packages/tqdm/auto.py:21: TqdmWarning: IProgress not found. Please update jupyter and ipywidgets. See https://ipywidgets.readthedocs.io/en/stable/user_install.html\n",
      "  from .autonotebook import tqdm as notebook_tqdm\n",
      "2023-10-25 22:45:57,744 - modelscope - INFO - Use user-specified model revision: v1.1.4\n",
      "Downloading: 100%|██████████| 8.21k/8.21k [00:00<00:00, 1.15MB/s]\n",
      "Downloading: 100%|██████████| 50.8k/50.8k [00:00<00:00, 6.12MB/s]\n",
      "Downloading: 100%|██████████| 963/963 [00:00<00:00, 573kB/s]\n",
      "Downloading: 100%|██████████| 77.0/77.0 [00:00<00:00, 32.3kB/s]\n",
      "Downloading: 100%|██████████| 2.29k/2.29k [00:00<00:00, 839kB/s]\n",
      "Downloading: 100%|██████████| 1.88k/1.88k [00:00<00:00, 1.12MB/s]\n",
      "Downloading: 100%|██████████| 221/221 [00:00<00:00, 136kB/s]\n",
      "Downloading: 100%|██████████| 6.73k/6.73k [00:00<00:00, 3.64MB/s]\n",
      "Downloading: 100%|█████████▉| 1.83G/1.83G [00:14<00:00, 137MB/s] \n",
      "Downloading: 100%|█████████▉| 1.88G/1.88G [00:06<00:00, 302MB/s]\n",
      "Downloading: 100%|█████████▉| 1.88G/1.88G [00:11<00:00, 174MB/s] \n",
      "Downloading: 100%|█████████▉| 1.88G/1.88G [00:07<00:00, 282MB/s]\n",
      "Downloading: 100%|█████████▉| 1.88G/1.88G [00:06<00:00, 299MB/s]\n",
      "Downloading: 100%|█████████▉| 1.88G/1.88G [00:06<00:00, 298MB/s]\n",
      "Downloading: 100%|█████████▉| 1.24G/1.24G [00:04<00:00, 308MB/s]\n",
      "Downloading: 100%|██████████| 19.1k/19.1k [00:00<00:00, 5.16MB/s]\n",
      "Downloading: 100%|██████████| 55.6k/55.6k [00:00<00:00, 8.67MB/s]\n",
      "Downloading: 100%|██████████| 2.64k/2.64k [00:00<00:00, 1.04MB/s]\n",
      "Downloading: 100%|██████████| 2.44M/2.44M [00:00<00:00, 46.8MB/s]\n",
      "Downloading: 100%|██████████| 14.3k/14.3k [00:00<00:00, 7.23MB/s]\n",
      "Downloading: 100%|██████████| 31.9k/31.9k [00:00<00:00, 10.2MB/s]\n",
      "Downloading: 100%|██████████| 8.25k/8.25k [00:00<00:00, 2.27MB/s]\n",
      "Downloading: 100%|██████████| 193/193 [00:00<00:00, 95.7kB/s]\n",
      "Warning: please make sure that you are using the latest codes and checkpoints, especially if you used Qwen-7B before 09.25.2023.请使用最新模型和代码，尤其如果你在9月25日前已经开始使用Qwen-7B，千万注意不要使用错误代码和模型。\n",
      "The model is automatically converting to bf16 for faster inference. If you want to disable the automatic precision, please manually add bf16/fp16/fp32=True to \"AutoModelForCausalLM.from_pretrained\".\n",
      "Warning: import flash_attn rotary fail, please install FlashAttention rotary to get higher efficiency https://github.com/Dao-AILab/flash-attention/tree/main/csrc/rotary\n",
      "Warning: import flash_attn rms_norm fail, please install FlashAttention layer_norm to get higher efficiency https://github.com/Dao-AILab/flash-attention/tree/main/csrc/layer_norm\n",
      "Warning: import flash_attn fail, please install FlashAttention to get higher efficiency https://github.com/Dao-AILab/flash-attention\n",
      "Loading checkpoint shards: 100%|██████████| 8/8 [00:46<00:00,  5.81s/it]\n"
     ]
    }
   ],
   "source": [
    "from modelscope import AutoModelForCausalLM, AutoTokenizer, snapshot_download\n",
    "from modelscope import GenerationConfig\n",
    "\n",
    "# Note: The default behavior now has injection attack prevention off.\n",
    "model_dir = snapshot_download(\"qwen/Qwen-7B-Chat\", revision = 'v1.1.4')\n",
    "\n",
    "tokenizer = AutoTokenizer.from_pretrained(model_dir, trust_remote_code=True)\n",
    "\n",
    "# use bf16\n",
    "# model = AutoModelForCausalLM.from_pretrained(model_dir, device_map=\"auto\", trust_remote_code=True, bf16=True).eval()\n",
    "# use fp16\n",
    "# model = AutoModelForCausalLM.from_pretrained(model_dir, device_map=\"auto\", trust_remote_code=True, fp16=True).eval()\n",
    "# use cpu only\n",
    "# model = AutoModelForCausalLM.from_pretrained(model_dir, device_map=\"cpu\", trust_remote_code=True).eval()\n",
    "# use auto mode, automatically select precision based on the device.\n",
    "model = AutoModelForCausalLM.from_pretrained(model_dir, device_map=\"auto\", trust_remote_code=True).eval()\n",
    "\n",
    "# Specify hyperparameters for generation\n",
    "model.generation_config = GenerationConfig.from_pretrained(model_dir, trust_remote_code=True) # 可指定不同的生成长度、top_p等相关超参\n",
    "\n"
   ]
  },
  {
   "cell_type": "code",
   "execution_count": 5,
   "id": "7c2ac541-4ad8-4458-88be-90cadfab070d",
   "metadata": {
    "ExecutionIndicator": {
     "show": false
    },
    "execution": {
     "iopub.execute_input": "2023-10-25T14:48:21.649941Z",
     "iopub.status.busy": "2023-10-25T14:48:21.649417Z",
     "iopub.status.idle": "2023-10-25T14:48:35.098635Z",
     "shell.execute_reply": "2023-10-25T14:48:35.097725Z",
     "shell.execute_reply.started": "2023-10-25T14:48:21.649917Z"
    },
    "tags": []
   },
   "outputs": [
    {
     "name": "stderr",
     "output_type": "stream",
     "text": [
      "2023-10-25 22:48:25.968706: I tensorflow/core/util/port.cc:110] oneDNN custom operations are on. You may see slightly different numerical results due to floating-point round-off errors from different computation orders. To turn them off, set the environment variable `TF_ENABLE_ONEDNN_OPTS=0`.\n",
      "2023-10-25 22:48:26.487145: I tensorflow/core/platform/cpu_feature_guard.cc:182] This TensorFlow binary is optimized to use available CPU instructions in performance-critical operations.\n",
      "To enable the following instructions: AVX2 AVX512F AVX512_VNNI FMA, in other operations, rebuild TensorFlow with the appropriate compiler flags.\n",
      "2023-10-25 22:48:27.782379: W tensorflow/compiler/tf2tensorrt/utils/py_utils.cc:38] TF-TRT Warning: Could not find TensorRT\n"
     ]
    },
    {
     "name": "stdout",
     "output_type": "stream",
     "text": [
      "你好！有什么我能为你做的吗？\n",
      "当然可以！有一个叫做张伟的年轻人，他出生在一个贫穷的家庭，但他从小就有一个梦想，那就是成为一个成功的企业家。他努力学习，不断提高自己的能力，最终考上了清华大学。毕业后，他进入了一家大公司工作，但他仍然没有放弃自己的梦想，他开始自学编程，不断尝试新的创业项目。经过多年的努力，他终于成功创办了自己的公司，并且取得了巨大的成功。\n",
      "《张伟：从贫穷到成功》\n"
     ]
    }
   ],
   "source": [
    "# 第一轮对话 1st dialogue turn\n",
    "response, history = model.chat(tokenizer, \"你好\", history=None)\n",
    "print(response)\n",
    "# 你好！很高兴为你提供帮助。\n",
    "\n",
    "\n",
    "\n"
   ]
  },
  {
   "cell_type": "code",
   "execution_count": 7,
   "id": "83ca2413-6d77-47c3-9671-2e45cfacc8b2",
   "metadata": {
    "execution": {
     "iopub.execute_input": "2023-10-25T14:52:03.087483Z",
     "iopub.status.busy": "2023-10-25T14:52:03.086913Z",
     "iopub.status.idle": "2023-10-25T14:52:08.252714Z",
     "shell.execute_reply": "2023-10-25T14:52:08.251617Z",
     "shell.execute_reply.started": "2023-10-25T14:52:03.087456Z"
    },
    "tags": []
   },
   "outputs": [
    {
     "name": "stdout",
     "output_type": "stream",
     "text": [
      "有一个年轻人叫张明，他出生在一个普通的家庭，但他从小就有着一颗梦想成为企业家的心。他毕业后，凭借自己的努力和勤奋，成功地在一家大公司工作，但他仍然不满足于此，他想要创业，实现自己的梦想。\n",
      "\n",
      "他开始筹备自己的创业项目，经过一段时间的努力，他终于成功地创办了自己的公司。他把所有的精力都投入到公司的发展中，经过几年的努力，他的公司终于取得了成功，他也因此成为了业界的知名企业家。\n",
      "\n",
      "他的故事告诉我们，只要有梦想，有毅力，有勇气，就一定能够实现自己的梦想。\n"
     ]
    }
   ],
   "source": [
    "# 第二轮对话 2nd dialogue turn\n",
    "response, history = model.chat(tokenizer, \"给我讲一个年轻人奋斗创业最终取得成功的故事。\", history=history)\n",
    "print(response)\n",
    "# 这是一个关于一个年轻人奋斗创业最终取得成功的故事。\n",
    "# 故事的主人公叫李明，他来自一个普通的家庭，父母都是普通的工人。从小，李明就立下了一个目标：要成为一名成功的企业家。\n",
    "# 为了实现这个目标，李明勤奋学习，考上了大学。在大学期间，他积极参加各种创业比赛，获得了不少奖项。他还利用课余时间去实习，积累了宝贵的经验。\n",
    "# 毕业后，李明决定开始自己的创业之路。他开始寻找投资机会，但多次都被拒绝了。然而，他并没有放弃。他继续努力，不断改进自己的创业计划，并寻找新的投资机会。\n",
    "# 最终，李明成功地获得了一笔投资，开始了自己的创业之路。他成立了一家科技公司，专注于开发新型软件。在他的领导下，公司迅速发展起来，成为了一家成功的科技企业。\n",
    "# 李明的成功并不是偶然的。他勤奋、坚韧、勇于冒险，不断学习和改进自己。他的成功也证明了，只要努力奋斗，任何人都有可能取得成功。"
   ]
  },
  {
   "cell_type": "code",
   "execution_count": 8,
   "id": "afa2d2f6-df02-4a4b-a601-bf3627ee8d0a",
   "metadata": {
    "execution": {
     "iopub.execute_input": "2023-10-25T14:52:18.946083Z",
     "iopub.status.busy": "2023-10-25T14:52:18.945356Z",
     "iopub.status.idle": "2023-10-25T14:52:19.369918Z",
     "shell.execute_reply": "2023-10-25T14:52:19.369132Z",
     "shell.execute_reply.started": "2023-10-25T14:52:18.946053Z"
    },
    "tags": []
   },
   "outputs": [
    {
     "name": "stdout",
     "output_type": "stream",
     "text": [
      "《张明的创业之路》\n"
     ]
    }
   ],
   "source": [
    "# 第三轮对话 3rd dialogue turn\n",
    "response, history = model.chat(tokenizer, \"给这个故事起一个标题\", history=history)\n",
    "print(response)\n",
    "# 《奋斗创业：一个年轻人的成功之路》"
   ]
  },
  {
   "cell_type": "code",
   "execution_count": 6,
   "id": "9cebb527-65a0-4999-9df4-e58e26d27851",
   "metadata": {
    "execution": {
     "iopub.execute_input": "2023-10-25T14:51:30.626047Z",
     "iopub.status.busy": "2023-10-25T14:51:30.625461Z",
     "iopub.status.idle": "2023-10-25T14:51:31.659276Z",
     "shell.execute_reply": "2023-10-25T14:51:31.658512Z",
     "shell.execute_reply.started": "2023-10-25T14:51:30.626023Z"
    },
    "tags": []
   },
   "outputs": [
    {
     "name": "stdout",
     "output_type": "stream",
     "text": [
      "是的，根据《中华人民共和国劳动法》的规定，员工在法定节假日加班应该支付加班费。\n"
     ]
    }
   ],
   "source": [
    "response, history = model.chat(tokenizer, \"根据劳动法规定，以下情况下应该支付加班费吗？\\n员工在法定节假日加班\", history=None)\n",
    "print(response)"
   ]
  },
  {
   "cell_type": "code",
   "execution_count": null,
   "id": "bd4857f5-fdbb-45c1-a887-35d75433bdc8",
   "metadata": {},
   "outputs": [],
   "source": []
  }
 ],
 "metadata": {
  "kernelspec": {
   "display_name": "Python 3 (ipykernel)",
   "language": "python",
   "name": "python3"
  },
  "language_info": {
   "codemirror_mode": {
    "name": "ipython",
    "version": 3
   },
   "file_extension": ".py",
   "mimetype": "text/x-python",
   "name": "python",
   "nbconvert_exporter": "python",
   "pygments_lexer": "ipython3",
   "version": "3.8.16"
  }
 },
 "nbformat": 4,
 "nbformat_minor": 5
}
